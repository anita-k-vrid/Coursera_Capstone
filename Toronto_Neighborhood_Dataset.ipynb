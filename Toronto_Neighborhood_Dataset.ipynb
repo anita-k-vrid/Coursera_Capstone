{
 "cells": [
  {
   "cell_type": "markdown",
   "metadata": {},
   "source": [
    "## Explore the neighborhoods in the city of Toronto"
   ]
  },
  {
   "cell_type": "markdown",
   "metadata": {},
   "source": [
    "<a id='item1'></a>"
   ]
  },
  {
   "cell_type": "markdown",
   "metadata": {},
   "source": [
    "# Import libraries"
   ]
  },
  {
   "cell_type": "code",
   "execution_count": 102,
   "metadata": {},
   "outputs": [
    {
     "name": "stdout",
     "output_type": "stream",
     "text": [
      "Collecting package metadata (current_repodata.json): done\n",
      "Solving environment: done\n",
      "\n",
      "\n",
      "==> WARNING: A newer version of conda exists. <==\n",
      "  current version: 4.8.3\n",
      "  latest version: 4.8.4\n",
      "\n",
      "Please update conda by running\n",
      "\n",
      "    $ conda update -n base -c defaults conda\n",
      "\n",
      "\n",
      "\n",
      "# All requested packages already installed.\n",
      "\n"
     ]
    }
   ],
   "source": [
    "import numpy as np\n",
    "import pandas as pd\n",
    "import requests\n",
    "\n",
    "!conda install -c conda-forge beautifulsoup4 --yes\n",
    "import bs4\n",
    "from bs4 import BeautifulSoup"
   ]
  },
  {
   "cell_type": "markdown",
   "metadata": {},
   "source": [
    "# Get Data from URL "
   ]
  },
  {
   "cell_type": "code",
   "execution_count": 104,
   "metadata": {},
   "outputs": [],
   "source": [
    "request_data = requests.get('https://en.wikipedia.org/wiki/List_of_postal_codes_of_Canada:_M').text\n",
    "soup = BeautifulSoup(request_data, \"html.parser\")"
   ]
  },
  {
   "cell_type": "markdown",
   "metadata": {},
   "source": [
    "# Find the data in the table cells and construct a dataframe"
   ]
  },
  {
   "cell_type": "code",
   "execution_count": 105,
   "metadata": {},
   "outputs": [],
   "source": [
    "table=soup.find('table')\n",
    "#dataframe will consist of three columns: PostalCode, Borough, and Neighborhood\n",
    "df = pd.DataFrame(columns = ['PostalCode','Borough','Neighborhoods'])\n",
    "df.shape\n",
    "\n",
    "# Search all the postcode, borough, neighborhood \n",
    "for trcelldata in table.find_all('tr'):\n",
    "    trdata=[]\n",
    "    for tdcelldata in trcelldata.find_all('td'):\n",
    "        trdata.append(tdcelldata.text.strip())\n",
    "    if len(trdata)==3:\n",
    "        df.loc[len(df)] = trdata"
   ]
  },
  {
   "cell_type": "markdown",
   "metadata": {},
   "source": [
    "# Perform the data cleanup and grooming required in lab"
   ]
  },
  {
   "cell_type": "code",
   "execution_count": 106,
   "metadata": {},
   "outputs": [
    {
     "data": {
      "text/plain": [
       "(103, 3)"
      ]
     },
     "execution_count": 106,
     "metadata": {},
     "output_type": "execute_result"
    }
   ],
   "source": [
    "df.dropna()\n",
    "# drop Borough not assigned \n",
    "df.drop(df[ df['Borough'] == 'Not assigned' ].index, inplace = True) \n",
    "\n",
    "# assign Borough to Neighborhood if latter not assigned\n",
    "df.Neighborhoods[df.Neighborhoods == 'Not assigned'] = df.Borough\n",
    "\n",
    "# Create a second frame grouping by postal code with neighborhoods transformed by , concatennation\n",
    "# In the dataset this is already done so no need to do this, but doing it because it is part of assignment \n",
    "df1=df.groupby('PostalCode')['Neighborhoods'].apply(lambda x: \"%s\" % ', '.join(x))\n",
    "# Merge , drop the extra column not comma separated and rename to correct name\n",
    "df2 = pd.merge(df, df1, on='PostalCode').drop_duplicates().drop(['Neighborhoods_x'],axis=1).rename(columns={'Neighborhoods_y':'Neighborhoods'})\n",
    "\n",
    "df2.shape\n"
   ]
  },
  {
   "cell_type": "code",
   "execution_count": null,
   "metadata": {},
   "outputs": [],
   "source": []
  }
 ],
 "metadata": {
  "kernelspec": {
   "display_name": "Python",
   "language": "python",
   "name": "conda-env-python-py"
  },
  "language_info": {
   "codemirror_mode": {
    "name": "ipython",
    "version": 3
   },
   "file_extension": ".py",
   "mimetype": "text/x-python",
   "name": "python",
   "nbconvert_exporter": "python",
   "pygments_lexer": "ipython3",
   "version": "3.6.11"
  },
  "widgets": {
   "state": {},
   "version": "1.1.2"
  }
 },
 "nbformat": 4,
 "nbformat_minor": 4
}
